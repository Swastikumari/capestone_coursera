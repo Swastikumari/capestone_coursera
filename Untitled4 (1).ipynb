{
 "cells": [
  {
   "cell_type": "markdown",
   "metadata": {},
   "source": [
    "Battle of the Neighbourhoods - Toronto\n"
   ]
  },
  {
   "cell_type": "markdown",
   "metadata": {},
   "source": [
    "import pandas as pd"
   ]
  },
  {
   "cell_type": "markdown",
   "metadata": {},
   "source": [
    "This notebook contains Questions 1, 2 & 3 of the Assignment. They have been segregated by Section headers"
   ]
  },
  {
   "cell_type": "code",
   "execution_count": 4,
   "metadata": {},
   "outputs": [],
   "source": [
    "import pandas as pd"
   ]
  },
  {
   "cell_type": "markdown",
   "metadata": {},
   "source": [
    "Question 1"
   ]
  },
  {
   "cell_type": "markdown",
   "metadata": {},
   "source": [
    "Importing Data\n"
   ]
  },
  {
   "cell_type": "code",
   "execution_count": 5,
   "metadata": {},
   "outputs": [],
   "source": [
    "import requests"
   ]
  },
  {
   "cell_type": "code",
   "execution_count": 7,
   "metadata": {},
   "outputs": [
    {
     "data": {
      "text/plain": [
       "<Response [200]>"
      ]
     },
     "execution_count": 7,
     "metadata": {},
     "output_type": "execute_result"
    }
   ],
   "source": [
    "url = \"https://en.wikipedia.org/wiki/List_of_postal_codes_of_Canada:_M\"\n",
    "wiki_url = requests.get(url)\n",
    "wiki_url\n"
   ]
  },
  {
   "cell_type": "code",
   "execution_count": 8,
   "metadata": {},
   "outputs": [
    {
     "data": {
      "text/plain": [
       "[    Postal Code           Borough  \\\n",
       " 0           M1A      Not assigned   \n",
       " 1           M2A      Not assigned   \n",
       " 2           M3A        North York   \n",
       " 3           M4A        North York   \n",
       " 4           M5A  Downtown Toronto   \n",
       " ..          ...               ...   \n",
       " 175         M5Z      Not assigned   \n",
       " 176         M6Z      Not assigned   \n",
       " 177         M7Z      Not assigned   \n",
       " 178         M8Z         Etobicoke   \n",
       " 179         M9Z      Not assigned   \n",
       " \n",
       "                                          Neighbourhood  \n",
       " 0                                         Not assigned  \n",
       " 1                                         Not assigned  \n",
       " 2                                            Parkwoods  \n",
       " 3                                     Victoria Village  \n",
       " 4                            Regent Park, Harbourfront  \n",
       " ..                                                 ...  \n",
       " 175                                       Not assigned  \n",
       " 176                                       Not assigned  \n",
       " 177                                       Not assigned  \n",
       " 178  Mimico NW, The Queensway West, South of Bloor,...  \n",
       " 179                                       Not assigned  \n",
       " \n",
       " [180 rows x 3 columns],\n",
       "                                                   0   \\\n",
       " 0                                                NaN   \n",
       " 1  NL NS PE NB QC ON MB SK AB BC NU/NT YT A B C E...   \n",
       " 2                                                 NL   \n",
       " 3                                                  A   \n",
       " \n",
       "                                                   1   \\\n",
       " 0                              Canadian postal codes   \n",
       " 1  NL NS PE NB QC ON MB SK AB BC NU/NT YT A B C E...   \n",
       " 2                                                 NS   \n",
       " 3                                                  B   \n",
       " \n",
       "                                                   2    3    4    5    6    7   \\\n",
       " 0                                                NaN  NaN  NaN  NaN  NaN  NaN   \n",
       " 1  NL NS PE NB QC ON MB SK AB BC NU/NT YT A B C E...  NaN  NaN  NaN  NaN  NaN   \n",
       " 2                                                 PE   NB   QC   QC   QC   ON   \n",
       " 3                                                  C    E    G    H    J    K   \n",
       " \n",
       "     8    9    10   11   12   13   14   15     16   17  \n",
       " 0  NaN  NaN  NaN  NaN  NaN  NaN  NaN  NaN    NaN  NaN  \n",
       " 1  NaN  NaN  NaN  NaN  NaN  NaN  NaN  NaN    NaN  NaN  \n",
       " 2   ON   ON   ON   ON   MB   SK   AB   BC  NU/NT   YT  \n",
       " 3    L    M    N    P    R    S    T    V      X    Y  ,\n",
       "    0   1   2   3   4   5   6   7   8   9   10  11  12  13  14  15     16  17\n",
       " 0  NL  NS  PE  NB  QC  QC  QC  ON  ON  ON  ON  ON  MB  SK  AB  BC  NU/NT  YT\n",
       " 1   A   B   C   E   G   H   J   K   L   M   N   P   R   S   T   V      X   Y]"
      ]
     },
     "execution_count": 8,
     "metadata": {},
     "output_type": "execute_result"
    }
   ],
   "source": [
    "wiki_data = pd.read_html(wiki_url.text)\n",
    "wiki_data"
   ]
  },
  {
   "cell_type": "code",
   "execution_count": 9,
   "metadata": {},
   "outputs": [
    {
     "data": {
      "text/plain": [
       "(3, list)"
      ]
     },
     "execution_count": 9,
     "metadata": {},
     "output_type": "execute_result"
    }
   ],
   "source": [
    "len(wiki_data), type(wiki_data)\n"
   ]
  },
  {
   "cell_type": "markdown",
   "metadata": {},
   "source": [
    "We need the first table alone, so dropping the other tables"
   ]
  },
  {
   "cell_type": "code",
   "execution_count": 10,
   "metadata": {},
   "outputs": [
    {
     "data": {
      "text/html": [
       "<div>\n",
       "<style scoped>\n",
       "    .dataframe tbody tr th:only-of-type {\n",
       "        vertical-align: middle;\n",
       "    }\n",
       "\n",
       "    .dataframe tbody tr th {\n",
       "        vertical-align: top;\n",
       "    }\n",
       "\n",
       "    .dataframe thead th {\n",
       "        text-align: right;\n",
       "    }\n",
       "</style>\n",
       "<table border=\"1\" class=\"dataframe\">\n",
       "  <thead>\n",
       "    <tr style=\"text-align: right;\">\n",
       "      <th></th>\n",
       "      <th>Postal Code</th>\n",
       "      <th>Borough</th>\n",
       "      <th>Neighbourhood</th>\n",
       "    </tr>\n",
       "  </thead>\n",
       "  <tbody>\n",
       "    <tr>\n",
       "      <th>0</th>\n",
       "      <td>M1A</td>\n",
       "      <td>Not assigned</td>\n",
       "      <td>Not assigned</td>\n",
       "    </tr>\n",
       "    <tr>\n",
       "      <th>1</th>\n",
       "      <td>M2A</td>\n",
       "      <td>Not assigned</td>\n",
       "      <td>Not assigned</td>\n",
       "    </tr>\n",
       "    <tr>\n",
       "      <th>2</th>\n",
       "      <td>M3A</td>\n",
       "      <td>North York</td>\n",
       "      <td>Parkwoods</td>\n",
       "    </tr>\n",
       "    <tr>\n",
       "      <th>3</th>\n",
       "      <td>M4A</td>\n",
       "      <td>North York</td>\n",
       "      <td>Victoria Village</td>\n",
       "    </tr>\n",
       "    <tr>\n",
       "      <th>4</th>\n",
       "      <td>M5A</td>\n",
       "      <td>Downtown Toronto</td>\n",
       "      <td>Regent Park, Harbourfront</td>\n",
       "    </tr>\n",
       "    <tr>\n",
       "      <th>...</th>\n",
       "      <td>...</td>\n",
       "      <td>...</td>\n",
       "      <td>...</td>\n",
       "    </tr>\n",
       "    <tr>\n",
       "      <th>175</th>\n",
       "      <td>M5Z</td>\n",
       "      <td>Not assigned</td>\n",
       "      <td>Not assigned</td>\n",
       "    </tr>\n",
       "    <tr>\n",
       "      <th>176</th>\n",
       "      <td>M6Z</td>\n",
       "      <td>Not assigned</td>\n",
       "      <td>Not assigned</td>\n",
       "    </tr>\n",
       "    <tr>\n",
       "      <th>177</th>\n",
       "      <td>M7Z</td>\n",
       "      <td>Not assigned</td>\n",
       "      <td>Not assigned</td>\n",
       "    </tr>\n",
       "    <tr>\n",
       "      <th>178</th>\n",
       "      <td>M8Z</td>\n",
       "      <td>Etobicoke</td>\n",
       "      <td>Mimico NW, The Queensway West, South of Bloor,...</td>\n",
       "    </tr>\n",
       "    <tr>\n",
       "      <th>179</th>\n",
       "      <td>M9Z</td>\n",
       "      <td>Not assigned</td>\n",
       "      <td>Not assigned</td>\n",
       "    </tr>\n",
       "  </tbody>\n",
       "</table>\n",
       "<p>180 rows × 3 columns</p>\n",
       "</div>"
      ],
      "text/plain": [
       "    Postal Code           Borough  \\\n",
       "0           M1A      Not assigned   \n",
       "1           M2A      Not assigned   \n",
       "2           M3A        North York   \n",
       "3           M4A        North York   \n",
       "4           M5A  Downtown Toronto   \n",
       "..          ...               ...   \n",
       "175         M5Z      Not assigned   \n",
       "176         M6Z      Not assigned   \n",
       "177         M7Z      Not assigned   \n",
       "178         M8Z         Etobicoke   \n",
       "179         M9Z      Not assigned   \n",
       "\n",
       "                                         Neighbourhood  \n",
       "0                                         Not assigned  \n",
       "1                                         Not assigned  \n",
       "2                                            Parkwoods  \n",
       "3                                     Victoria Village  \n",
       "4                            Regent Park, Harbourfront  \n",
       "..                                                 ...  \n",
       "175                                       Not assigned  \n",
       "176                                       Not assigned  \n",
       "177                                       Not assigned  \n",
       "178  Mimico NW, The Queensway West, South of Bloor,...  \n",
       "179                                       Not assigned  \n",
       "\n",
       "[180 rows x 3 columns]"
      ]
     },
     "execution_count": 10,
     "metadata": {},
     "output_type": "execute_result"
    }
   ],
   "source": [
    "wiki_data = wiki_data[0]\n",
    "wiki_data"
   ]
  },
  {
   "cell_type": "markdown",
   "metadata": {},
   "source": [
    "Dropping Borough which are not assigned"
   ]
  },
  {
   "cell_type": "code",
   "execution_count": 11,
   "metadata": {},
   "outputs": [
    {
     "data": {
      "text/html": [
       "<div>\n",
       "<style scoped>\n",
       "    .dataframe tbody tr th:only-of-type {\n",
       "        vertical-align: middle;\n",
       "    }\n",
       "\n",
       "    .dataframe tbody tr th {\n",
       "        vertical-align: top;\n",
       "    }\n",
       "\n",
       "    .dataframe thead th {\n",
       "        text-align: right;\n",
       "    }\n",
       "</style>\n",
       "<table border=\"1\" class=\"dataframe\">\n",
       "  <thead>\n",
       "    <tr style=\"text-align: right;\">\n",
       "      <th></th>\n",
       "      <th>Postal Code</th>\n",
       "      <th>Borough</th>\n",
       "      <th>Neighbourhood</th>\n",
       "    </tr>\n",
       "  </thead>\n",
       "  <tbody>\n",
       "    <tr>\n",
       "      <th>2</th>\n",
       "      <td>M3A</td>\n",
       "      <td>North York</td>\n",
       "      <td>Parkwoods</td>\n",
       "    </tr>\n",
       "    <tr>\n",
       "      <th>3</th>\n",
       "      <td>M4A</td>\n",
       "      <td>North York</td>\n",
       "      <td>Victoria Village</td>\n",
       "    </tr>\n",
       "    <tr>\n",
       "      <th>4</th>\n",
       "      <td>M5A</td>\n",
       "      <td>Downtown Toronto</td>\n",
       "      <td>Regent Park, Harbourfront</td>\n",
       "    </tr>\n",
       "    <tr>\n",
       "      <th>5</th>\n",
       "      <td>M6A</td>\n",
       "      <td>North York</td>\n",
       "      <td>Lawrence Manor, Lawrence Heights</td>\n",
       "    </tr>\n",
       "    <tr>\n",
       "      <th>6</th>\n",
       "      <td>M7A</td>\n",
       "      <td>Downtown Toronto</td>\n",
       "      <td>Queen's Park, Ontario Provincial Government</td>\n",
       "    </tr>\n",
       "    <tr>\n",
       "      <th>...</th>\n",
       "      <td>...</td>\n",
       "      <td>...</td>\n",
       "      <td>...</td>\n",
       "    </tr>\n",
       "    <tr>\n",
       "      <th>160</th>\n",
       "      <td>M8X</td>\n",
       "      <td>Etobicoke</td>\n",
       "      <td>The Kingsway, Montgomery Road, Old Mill North</td>\n",
       "    </tr>\n",
       "    <tr>\n",
       "      <th>165</th>\n",
       "      <td>M4Y</td>\n",
       "      <td>Downtown Toronto</td>\n",
       "      <td>Church and Wellesley</td>\n",
       "    </tr>\n",
       "    <tr>\n",
       "      <th>168</th>\n",
       "      <td>M7Y</td>\n",
       "      <td>East Toronto</td>\n",
       "      <td>Business reply mail Processing Centre, South C...</td>\n",
       "    </tr>\n",
       "    <tr>\n",
       "      <th>169</th>\n",
       "      <td>M8Y</td>\n",
       "      <td>Etobicoke</td>\n",
       "      <td>Old Mill South, King's Mill Park, Sunnylea, Hu...</td>\n",
       "    </tr>\n",
       "    <tr>\n",
       "      <th>178</th>\n",
       "      <td>M8Z</td>\n",
       "      <td>Etobicoke</td>\n",
       "      <td>Mimico NW, The Queensway West, South of Bloor,...</td>\n",
       "    </tr>\n",
       "  </tbody>\n",
       "</table>\n",
       "<p>103 rows × 3 columns</p>\n",
       "</div>"
      ],
      "text/plain": [
       "    Postal Code           Borough  \\\n",
       "2           M3A        North York   \n",
       "3           M4A        North York   \n",
       "4           M5A  Downtown Toronto   \n",
       "5           M6A        North York   \n",
       "6           M7A  Downtown Toronto   \n",
       "..          ...               ...   \n",
       "160         M8X         Etobicoke   \n",
       "165         M4Y  Downtown Toronto   \n",
       "168         M7Y      East Toronto   \n",
       "169         M8Y         Etobicoke   \n",
       "178         M8Z         Etobicoke   \n",
       "\n",
       "                                         Neighbourhood  \n",
       "2                                            Parkwoods  \n",
       "3                                     Victoria Village  \n",
       "4                            Regent Park, Harbourfront  \n",
       "5                     Lawrence Manor, Lawrence Heights  \n",
       "6          Queen's Park, Ontario Provincial Government  \n",
       "..                                                 ...  \n",
       "160      The Kingsway, Montgomery Road, Old Mill North  \n",
       "165                               Church and Wellesley  \n",
       "168  Business reply mail Processing Centre, South C...  \n",
       "169  Old Mill South, King's Mill Park, Sunnylea, Hu...  \n",
       "178  Mimico NW, The Queensway West, South of Bloor,...  \n",
       "\n",
       "[103 rows x 3 columns]"
      ]
     },
     "execution_count": 11,
     "metadata": {},
     "output_type": "execute_result"
    }
   ],
   "source": [
    "df = wiki_data[wiki_data[\"Borough\"] != \"Not assigned\"]\n",
    "df"
   ]
  },
  {
   "cell_type": "markdown",
   "metadata": {},
   "source": [
    "Grouping the records based on Postal Code"
   ]
  },
  {
   "cell_type": "code",
   "execution_count": 12,
   "metadata": {},
   "outputs": [
    {
     "data": {
      "text/html": [
       "<div>\n",
       "<style scoped>\n",
       "    .dataframe tbody tr th:only-of-type {\n",
       "        vertical-align: middle;\n",
       "    }\n",
       "\n",
       "    .dataframe tbody tr th {\n",
       "        vertical-align: top;\n",
       "    }\n",
       "\n",
       "    .dataframe thead th {\n",
       "        text-align: right;\n",
       "    }\n",
       "</style>\n",
       "<table border=\"1\" class=\"dataframe\">\n",
       "  <thead>\n",
       "    <tr style=\"text-align: right;\">\n",
       "      <th></th>\n",
       "      <th>Postal Code</th>\n",
       "      <th>Borough</th>\n",
       "      <th>Neighbourhood</th>\n",
       "    </tr>\n",
       "  </thead>\n",
       "  <tbody>\n",
       "    <tr>\n",
       "      <th>2</th>\n",
       "      <td>M3A</td>\n",
       "      <td>North York</td>\n",
       "      <td>Parkwoods</td>\n",
       "    </tr>\n",
       "    <tr>\n",
       "      <th>3</th>\n",
       "      <td>M4A</td>\n",
       "      <td>North York</td>\n",
       "      <td>Victoria Village</td>\n",
       "    </tr>\n",
       "    <tr>\n",
       "      <th>4</th>\n",
       "      <td>M5A</td>\n",
       "      <td>Downtown Toronto</td>\n",
       "      <td>Regent Park, Harbourfront</td>\n",
       "    </tr>\n",
       "    <tr>\n",
       "      <th>5</th>\n",
       "      <td>M6A</td>\n",
       "      <td>North York</td>\n",
       "      <td>Lawrence Manor, Lawrence Heights</td>\n",
       "    </tr>\n",
       "    <tr>\n",
       "      <th>6</th>\n",
       "      <td>M7A</td>\n",
       "      <td>Downtown Toronto</td>\n",
       "      <td>Queen's Park, Ontario Provincial Government</td>\n",
       "    </tr>\n",
       "    <tr>\n",
       "      <th>...</th>\n",
       "      <td>...</td>\n",
       "      <td>...</td>\n",
       "      <td>...</td>\n",
       "    </tr>\n",
       "    <tr>\n",
       "      <th>160</th>\n",
       "      <td>M8X</td>\n",
       "      <td>Etobicoke</td>\n",
       "      <td>The Kingsway, Montgomery Road, Old Mill North</td>\n",
       "    </tr>\n",
       "    <tr>\n",
       "      <th>165</th>\n",
       "      <td>M4Y</td>\n",
       "      <td>Downtown Toronto</td>\n",
       "      <td>Church and Wellesley</td>\n",
       "    </tr>\n",
       "    <tr>\n",
       "      <th>168</th>\n",
       "      <td>M7Y</td>\n",
       "      <td>East Toronto</td>\n",
       "      <td>Business reply mail Processing Centre, South C...</td>\n",
       "    </tr>\n",
       "    <tr>\n",
       "      <th>169</th>\n",
       "      <td>M8Y</td>\n",
       "      <td>Etobicoke</td>\n",
       "      <td>Old Mill South, King's Mill Park, Sunnylea, Hu...</td>\n",
       "    </tr>\n",
       "    <tr>\n",
       "      <th>178</th>\n",
       "      <td>M8Z</td>\n",
       "      <td>Etobicoke</td>\n",
       "      <td>Mimico NW, The Queensway West, South of Bloor,...</td>\n",
       "    </tr>\n",
       "  </tbody>\n",
       "</table>\n",
       "<p>103 rows × 3 columns</p>\n",
       "</div>"
      ],
      "text/plain": [
       "    Postal Code           Borough  \\\n",
       "2           M3A        North York   \n",
       "3           M4A        North York   \n",
       "4           M5A  Downtown Toronto   \n",
       "5           M6A        North York   \n",
       "6           M7A  Downtown Toronto   \n",
       "..          ...               ...   \n",
       "160         M8X         Etobicoke   \n",
       "165         M4Y  Downtown Toronto   \n",
       "168         M7Y      East Toronto   \n",
       "169         M8Y         Etobicoke   \n",
       "178         M8Z         Etobicoke   \n",
       "\n",
       "                                         Neighbourhood  \n",
       "2                                            Parkwoods  \n",
       "3                                     Victoria Village  \n",
       "4                            Regent Park, Harbourfront  \n",
       "5                     Lawrence Manor, Lawrence Heights  \n",
       "6          Queen's Park, Ontario Provincial Government  \n",
       "..                                                 ...  \n",
       "160      The Kingsway, Montgomery Road, Old Mill North  \n",
       "165                               Church and Wellesley  \n",
       "168  Business reply mail Processing Centre, South C...  \n",
       "169  Old Mill South, King's Mill Park, Sunnylea, Hu...  \n",
       "178  Mimico NW, The Queensway West, South of Bloor,...  \n",
       "\n",
       "[103 rows x 3 columns]"
      ]
     },
     "execution_count": 12,
     "metadata": {},
     "output_type": "execute_result"
    }
   ],
   "source": [
    "df = df.groupby(['Postal Code']).head()\n",
    "df"
   ]
  },
  {
   "cell_type": "markdown",
   "metadata": {},
   "source": [
    "Checking for number of records where Neighbourhood is \"Not assigned\""
   ]
  },
  {
   "cell_type": "code",
   "execution_count": 13,
   "metadata": {},
   "outputs": [
    {
     "data": {
      "text/plain": [
       "0"
      ]
     },
     "execution_count": 13,
     "metadata": {},
     "output_type": "execute_result"
    }
   ],
   "source": [
    "df.Neighbourhood.str.count(\"Not assigned\").sum()"
   ]
  },
  {
   "cell_type": "code",
   "execution_count": 14,
   "metadata": {},
   "outputs": [
    {
     "data": {
      "text/html": [
       "<div>\n",
       "<style scoped>\n",
       "    .dataframe tbody tr th:only-of-type {\n",
       "        vertical-align: middle;\n",
       "    }\n",
       "\n",
       "    .dataframe tbody tr th {\n",
       "        vertical-align: top;\n",
       "    }\n",
       "\n",
       "    .dataframe thead th {\n",
       "        text-align: right;\n",
       "    }\n",
       "</style>\n",
       "<table border=\"1\" class=\"dataframe\">\n",
       "  <thead>\n",
       "    <tr style=\"text-align: right;\">\n",
       "      <th></th>\n",
       "      <th>index</th>\n",
       "      <th>Postal Code</th>\n",
       "      <th>Borough</th>\n",
       "      <th>Neighbourhood</th>\n",
       "    </tr>\n",
       "  </thead>\n",
       "  <tbody>\n",
       "    <tr>\n",
       "      <th>0</th>\n",
       "      <td>2</td>\n",
       "      <td>M3A</td>\n",
       "      <td>North York</td>\n",
       "      <td>Parkwoods</td>\n",
       "    </tr>\n",
       "    <tr>\n",
       "      <th>1</th>\n",
       "      <td>3</td>\n",
       "      <td>M4A</td>\n",
       "      <td>North York</td>\n",
       "      <td>Victoria Village</td>\n",
       "    </tr>\n",
       "    <tr>\n",
       "      <th>2</th>\n",
       "      <td>4</td>\n",
       "      <td>M5A</td>\n",
       "      <td>Downtown Toronto</td>\n",
       "      <td>Regent Park, Harbourfront</td>\n",
       "    </tr>\n",
       "    <tr>\n",
       "      <th>3</th>\n",
       "      <td>5</td>\n",
       "      <td>M6A</td>\n",
       "      <td>North York</td>\n",
       "      <td>Lawrence Manor, Lawrence Heights</td>\n",
       "    </tr>\n",
       "    <tr>\n",
       "      <th>4</th>\n",
       "      <td>6</td>\n",
       "      <td>M7A</td>\n",
       "      <td>Downtown Toronto</td>\n",
       "      <td>Queen's Park, Ontario Provincial Government</td>\n",
       "    </tr>\n",
       "    <tr>\n",
       "      <th>...</th>\n",
       "      <td>...</td>\n",
       "      <td>...</td>\n",
       "      <td>...</td>\n",
       "      <td>...</td>\n",
       "    </tr>\n",
       "    <tr>\n",
       "      <th>98</th>\n",
       "      <td>160</td>\n",
       "      <td>M8X</td>\n",
       "      <td>Etobicoke</td>\n",
       "      <td>The Kingsway, Montgomery Road, Old Mill North</td>\n",
       "    </tr>\n",
       "    <tr>\n",
       "      <th>99</th>\n",
       "      <td>165</td>\n",
       "      <td>M4Y</td>\n",
       "      <td>Downtown Toronto</td>\n",
       "      <td>Church and Wellesley</td>\n",
       "    </tr>\n",
       "    <tr>\n",
       "      <th>100</th>\n",
       "      <td>168</td>\n",
       "      <td>M7Y</td>\n",
       "      <td>East Toronto</td>\n",
       "      <td>Business reply mail Processing Centre, South C...</td>\n",
       "    </tr>\n",
       "    <tr>\n",
       "      <th>101</th>\n",
       "      <td>169</td>\n",
       "      <td>M8Y</td>\n",
       "      <td>Etobicoke</td>\n",
       "      <td>Old Mill South, King's Mill Park, Sunnylea, Hu...</td>\n",
       "    </tr>\n",
       "    <tr>\n",
       "      <th>102</th>\n",
       "      <td>178</td>\n",
       "      <td>M8Z</td>\n",
       "      <td>Etobicoke</td>\n",
       "      <td>Mimico NW, The Queensway West, South of Bloor,...</td>\n",
       "    </tr>\n",
       "  </tbody>\n",
       "</table>\n",
       "<p>103 rows × 4 columns</p>\n",
       "</div>"
      ],
      "text/plain": [
       "     index Postal Code           Borough  \\\n",
       "0        2         M3A        North York   \n",
       "1        3         M4A        North York   \n",
       "2        4         M5A  Downtown Toronto   \n",
       "3        5         M6A        North York   \n",
       "4        6         M7A  Downtown Toronto   \n",
       "..     ...         ...               ...   \n",
       "98     160         M8X         Etobicoke   \n",
       "99     165         M4Y  Downtown Toronto   \n",
       "100    168         M7Y      East Toronto   \n",
       "101    169         M8Y         Etobicoke   \n",
       "102    178         M8Z         Etobicoke   \n",
       "\n",
       "                                         Neighbourhood  \n",
       "0                                            Parkwoods  \n",
       "1                                     Victoria Village  \n",
       "2                            Regent Park, Harbourfront  \n",
       "3                     Lawrence Manor, Lawrence Heights  \n",
       "4          Queen's Park, Ontario Provincial Government  \n",
       "..                                                 ...  \n",
       "98       The Kingsway, Montgomery Road, Old Mill North  \n",
       "99                                Church and Wellesley  \n",
       "100  Business reply mail Processing Centre, South C...  \n",
       "101  Old Mill South, King's Mill Park, Sunnylea, Hu...  \n",
       "102  Mimico NW, The Queensway West, South of Bloor,...  \n",
       "\n",
       "[103 rows x 4 columns]"
      ]
     },
     "execution_count": 14,
     "metadata": {},
     "output_type": "execute_result"
    }
   ],
   "source": [
    "df = df.reset_index()\n",
    "df"
   ]
  },
  {
   "cell_type": "code",
   "execution_count": 15,
   "metadata": {},
   "outputs": [
    {
     "data": {
      "text/html": [
       "<div>\n",
       "<style scoped>\n",
       "    .dataframe tbody tr th:only-of-type {\n",
       "        vertical-align: middle;\n",
       "    }\n",
       "\n",
       "    .dataframe tbody tr th {\n",
       "        vertical-align: top;\n",
       "    }\n",
       "\n",
       "    .dataframe thead th {\n",
       "        text-align: right;\n",
       "    }\n",
       "</style>\n",
       "<table border=\"1\" class=\"dataframe\">\n",
       "  <thead>\n",
       "    <tr style=\"text-align: right;\">\n",
       "      <th></th>\n",
       "      <th>Postal Code</th>\n",
       "      <th>Borough</th>\n",
       "      <th>Neighbourhood</th>\n",
       "    </tr>\n",
       "  </thead>\n",
       "  <tbody>\n",
       "    <tr>\n",
       "      <th>0</th>\n",
       "      <td>M3A</td>\n",
       "      <td>North York</td>\n",
       "      <td>Parkwoods</td>\n",
       "    </tr>\n",
       "    <tr>\n",
       "      <th>1</th>\n",
       "      <td>M4A</td>\n",
       "      <td>North York</td>\n",
       "      <td>Victoria Village</td>\n",
       "    </tr>\n",
       "    <tr>\n",
       "      <th>2</th>\n",
       "      <td>M5A</td>\n",
       "      <td>Downtown Toronto</td>\n",
       "      <td>Regent Park, Harbourfront</td>\n",
       "    </tr>\n",
       "    <tr>\n",
       "      <th>3</th>\n",
       "      <td>M6A</td>\n",
       "      <td>North York</td>\n",
       "      <td>Lawrence Manor, Lawrence Heights</td>\n",
       "    </tr>\n",
       "    <tr>\n",
       "      <th>4</th>\n",
       "      <td>M7A</td>\n",
       "      <td>Downtown Toronto</td>\n",
       "      <td>Queen's Park, Ontario Provincial Government</td>\n",
       "    </tr>\n",
       "    <tr>\n",
       "      <th>...</th>\n",
       "      <td>...</td>\n",
       "      <td>...</td>\n",
       "      <td>...</td>\n",
       "    </tr>\n",
       "    <tr>\n",
       "      <th>98</th>\n",
       "      <td>M8X</td>\n",
       "      <td>Etobicoke</td>\n",
       "      <td>The Kingsway, Montgomery Road, Old Mill North</td>\n",
       "    </tr>\n",
       "    <tr>\n",
       "      <th>99</th>\n",
       "      <td>M4Y</td>\n",
       "      <td>Downtown Toronto</td>\n",
       "      <td>Church and Wellesley</td>\n",
       "    </tr>\n",
       "    <tr>\n",
       "      <th>100</th>\n",
       "      <td>M7Y</td>\n",
       "      <td>East Toronto</td>\n",
       "      <td>Business reply mail Processing Centre, South C...</td>\n",
       "    </tr>\n",
       "    <tr>\n",
       "      <th>101</th>\n",
       "      <td>M8Y</td>\n",
       "      <td>Etobicoke</td>\n",
       "      <td>Old Mill South, King's Mill Park, Sunnylea, Hu...</td>\n",
       "    </tr>\n",
       "    <tr>\n",
       "      <th>102</th>\n",
       "      <td>M8Z</td>\n",
       "      <td>Etobicoke</td>\n",
       "      <td>Mimico NW, The Queensway West, South of Bloor,...</td>\n",
       "    </tr>\n",
       "  </tbody>\n",
       "</table>\n",
       "<p>103 rows × 3 columns</p>\n",
       "</div>"
      ],
      "text/plain": [
       "    Postal Code           Borough  \\\n",
       "0           M3A        North York   \n",
       "1           M4A        North York   \n",
       "2           M5A  Downtown Toronto   \n",
       "3           M6A        North York   \n",
       "4           M7A  Downtown Toronto   \n",
       "..          ...               ...   \n",
       "98          M8X         Etobicoke   \n",
       "99          M4Y  Downtown Toronto   \n",
       "100         M7Y      East Toronto   \n",
       "101         M8Y         Etobicoke   \n",
       "102         M8Z         Etobicoke   \n",
       "\n",
       "                                         Neighbourhood  \n",
       "0                                            Parkwoods  \n",
       "1                                     Victoria Village  \n",
       "2                            Regent Park, Harbourfront  \n",
       "3                     Lawrence Manor, Lawrence Heights  \n",
       "4          Queen's Park, Ontario Provincial Government  \n",
       "..                                                 ...  \n",
       "98       The Kingsway, Montgomery Road, Old Mill North  \n",
       "99                                Church and Wellesley  \n",
       "100  Business reply mail Processing Centre, South C...  \n",
       "101  Old Mill South, King's Mill Park, Sunnylea, Hu...  \n",
       "102  Mimico NW, The Queensway West, South of Bloor,...  \n",
       "\n",
       "[103 rows x 3 columns]"
      ]
     },
     "execution_count": 15,
     "metadata": {},
     "output_type": "execute_result"
    }
   ],
   "source": [
    "df.drop(['index'], axis = 'columns', inplace = True)\n",
    "df"
   ]
  },
  {
   "cell_type": "code",
   "execution_count": 16,
   "metadata": {},
   "outputs": [
    {
     "data": {
      "text/plain": [
       "(103, 3)"
      ]
     },
     "execution_count": 16,
     "metadata": {},
     "output_type": "execute_result"
    }
   ],
   "source": [
    "df.shape"
   ]
  },
  {
   "cell_type": "markdown",
   "metadata": {},
   "source": [
    "Answer to Question 1: We have 103 rows and 3 columns\n"
   ]
  },
  {
   "cell_type": "markdown",
   "metadata": {},
   "source": [
    "Question 2"
   ]
  },
  {
   "cell_type": "markdown",
   "metadata": {},
   "source": [
    "Installing geocoder"
   ]
  },
  {
   "cell_type": "code",
   "execution_count": 17,
   "metadata": {},
   "outputs": [
    {
     "name": "stdout",
     "output_type": "stream",
     "text": [
      "Requirement already satisfied: geocoder in c:\\users\\narayan prasad\\anaconda3\\lib\\site-packages (1.38.1)\n",
      "Requirement already satisfied: requests in c:\\users\\narayan prasad\\anaconda3\\lib\\site-packages (from geocoder) (2.24.0)\n",
      "Requirement already satisfied: six in c:\\users\\narayan prasad\\anaconda3\\lib\\site-packages (from geocoder) (1.15.0)\n",
      "Requirement already satisfied: future in c:\\users\\narayan prasad\\anaconda3\\lib\\site-packages (from geocoder) (0.18.2)\n",
      "Requirement already satisfied: ratelim in c:\\users\\narayan prasad\\anaconda3\\lib\\site-packages (from geocoder) (0.1.6)\n",
      "Requirement already satisfied: click in c:\\users\\narayan prasad\\anaconda3\\lib\\site-packages (from geocoder) (7.1.2)\n",
      "Requirement already satisfied: certifi>=2017.4.17 in c:\\users\\narayan prasad\\anaconda3\\lib\\site-packages (from requests->geocoder) (2020.6.20)\n",
      "Requirement already satisfied: chardet<4,>=3.0.2 in c:\\users\\narayan prasad\\anaconda3\\lib\\site-packages (from requests->geocoder) (3.0.4)\n",
      "Requirement already satisfied: idna<3,>=2.5 in c:\\users\\narayan prasad\\anaconda3\\lib\\site-packages (from requests->geocoder) (2.10)\n",
      "Requirement already satisfied: urllib3!=1.25.0,!=1.25.1,<1.26,>=1.21.1 in c:\\users\\narayan prasad\\anaconda3\\lib\\site-packages (from requests->geocoder) (1.25.9)\n",
      "Requirement already satisfied: decorator in c:\\users\\narayan prasad\\anaconda3\\lib\\site-packages (from ratelim->geocoder) (4.4.2)\n"
     ]
    }
   ],
   "source": [
    "!pip install geocoder"
   ]
  },
  {
   "cell_type": "code",
   "execution_count": 19,
   "metadata": {},
   "outputs": [],
   "source": [
    "import geocoder # import geocoder"
   ]
  },
  {
   "cell_type": "markdown",
   "metadata": {},
   "source": [
    "Tried the below approach, ran for 20 mins, then killed it. Changing the code cell to Text for now so that the run all execution doesn't stop."
   ]
  },
  {
   "cell_type": "markdown",
   "metadata": {},
   "source": [
    "Alternatively, as suggested in the assignment, Importing the CSV file from the URL"
   ]
  },
  {
   "cell_type": "code",
   "execution_count": 20,
   "metadata": {},
   "outputs": [
    {
     "data": {
      "text/html": [
       "<div>\n",
       "<style scoped>\n",
       "    .dataframe tbody tr th:only-of-type {\n",
       "        vertical-align: middle;\n",
       "    }\n",
       "\n",
       "    .dataframe tbody tr th {\n",
       "        vertical-align: top;\n",
       "    }\n",
       "\n",
       "    .dataframe thead th {\n",
       "        text-align: right;\n",
       "    }\n",
       "</style>\n",
       "<table border=\"1\" class=\"dataframe\">\n",
       "  <thead>\n",
       "    <tr style=\"text-align: right;\">\n",
       "      <th></th>\n",
       "      <th>Postal Code</th>\n",
       "      <th>Latitude</th>\n",
       "      <th>Longitude</th>\n",
       "    </tr>\n",
       "  </thead>\n",
       "  <tbody>\n",
       "    <tr>\n",
       "      <th>0</th>\n",
       "      <td>M1B</td>\n",
       "      <td>43.806686</td>\n",
       "      <td>-79.194353</td>\n",
       "    </tr>\n",
       "    <tr>\n",
       "      <th>1</th>\n",
       "      <td>M1C</td>\n",
       "      <td>43.784535</td>\n",
       "      <td>-79.160497</td>\n",
       "    </tr>\n",
       "    <tr>\n",
       "      <th>2</th>\n",
       "      <td>M1E</td>\n",
       "      <td>43.763573</td>\n",
       "      <td>-79.188711</td>\n",
       "    </tr>\n",
       "    <tr>\n",
       "      <th>3</th>\n",
       "      <td>M1G</td>\n",
       "      <td>43.770992</td>\n",
       "      <td>-79.216917</td>\n",
       "    </tr>\n",
       "    <tr>\n",
       "      <th>4</th>\n",
       "      <td>M1H</td>\n",
       "      <td>43.773136</td>\n",
       "      <td>-79.239476</td>\n",
       "    </tr>\n",
       "    <tr>\n",
       "      <th>...</th>\n",
       "      <td>...</td>\n",
       "      <td>...</td>\n",
       "      <td>...</td>\n",
       "    </tr>\n",
       "    <tr>\n",
       "      <th>98</th>\n",
       "      <td>M9N</td>\n",
       "      <td>43.706876</td>\n",
       "      <td>-79.518188</td>\n",
       "    </tr>\n",
       "    <tr>\n",
       "      <th>99</th>\n",
       "      <td>M9P</td>\n",
       "      <td>43.696319</td>\n",
       "      <td>-79.532242</td>\n",
       "    </tr>\n",
       "    <tr>\n",
       "      <th>100</th>\n",
       "      <td>M9R</td>\n",
       "      <td>43.688905</td>\n",
       "      <td>-79.554724</td>\n",
       "    </tr>\n",
       "    <tr>\n",
       "      <th>101</th>\n",
       "      <td>M9V</td>\n",
       "      <td>43.739416</td>\n",
       "      <td>-79.588437</td>\n",
       "    </tr>\n",
       "    <tr>\n",
       "      <th>102</th>\n",
       "      <td>M9W</td>\n",
       "      <td>43.706748</td>\n",
       "      <td>-79.594054</td>\n",
       "    </tr>\n",
       "  </tbody>\n",
       "</table>\n",
       "<p>103 rows × 3 columns</p>\n",
       "</div>"
      ],
      "text/plain": [
       "    Postal Code   Latitude  Longitude\n",
       "0           M1B  43.806686 -79.194353\n",
       "1           M1C  43.784535 -79.160497\n",
       "2           M1E  43.763573 -79.188711\n",
       "3           M1G  43.770992 -79.216917\n",
       "4           M1H  43.773136 -79.239476\n",
       "..          ...        ...        ...\n",
       "98          M9N  43.706876 -79.518188\n",
       "99          M9P  43.696319 -79.532242\n",
       "100         M9R  43.688905 -79.554724\n",
       "101         M9V  43.739416 -79.588437\n",
       "102         M9W  43.706748 -79.594054\n",
       "\n",
       "[103 rows x 3 columns]"
      ]
     },
     "execution_count": 20,
     "metadata": {},
     "output_type": "execute_result"
    }
   ],
   "source": [
    "data = pd.read_csv(\"https://cocl.us/Geospatial_data\")\n",
    "data\n"
   ]
  },
  {
   "cell_type": "code",
   "execution_count": 21,
   "metadata": {},
   "outputs": [
    {
     "name": "stdout",
     "output_type": "stream",
     "text": [
      "The shape of our wiki data is:  (103, 3)\n",
      "the shape of our csv data is:  (103, 3)\n"
     ]
    }
   ],
   "source": [
    "print(\"The shape of our wiki data is: \", df.shape)\n",
    "print(\"the shape of our csv data is: \", data.shape)"
   ]
  },
  {
   "cell_type": "markdown",
   "metadata": {},
   "source": [
    "Since the dimensions are the same, we can try to join on the postal codes to get the required data.\n"
   ]
  },
  {
   "cell_type": "markdown",
   "metadata": {},
   "source": [
    "Checking the column types of both the dataframes, especially Postal Code column since we are trying to join on it"
   ]
  },
  {
   "cell_type": "code",
   "execution_count": 22,
   "metadata": {},
   "outputs": [
    {
     "data": {
      "text/plain": [
       "Postal Code      object\n",
       "Borough          object\n",
       "Neighbourhood    object\n",
       "dtype: object"
      ]
     },
     "execution_count": 22,
     "metadata": {},
     "output_type": "execute_result"
    }
   ],
   "source": [
    "df.dtypes\n"
   ]
  },
  {
   "cell_type": "code",
   "execution_count": 30,
   "metadata": {},
   "outputs": [
    {
     "data": {
      "text/plain": [
       "Postal Code     object\n",
       "Latitude       float64\n",
       "Longitude      float64\n",
       "dtype: object"
      ]
     },
     "execution_count": 30,
     "metadata": {},
     "output_type": "execute_result"
    }
   ],
   "source": [
    "data.dtypes"
   ]
  },
  {
   "cell_type": "code",
   "execution_count": 31,
   "metadata": {},
   "outputs": [
    {
     "data": {
      "text/html": [
       "<div>\n",
       "<style scoped>\n",
       "    .dataframe tbody tr th:only-of-type {\n",
       "        vertical-align: middle;\n",
       "    }\n",
       "\n",
       "    .dataframe tbody tr th {\n",
       "        vertical-align: top;\n",
       "    }\n",
       "\n",
       "    .dataframe thead th {\n",
       "        text-align: right;\n",
       "    }\n",
       "</style>\n",
       "<table border=\"1\" class=\"dataframe\">\n",
       "  <thead>\n",
       "    <tr style=\"text-align: right;\">\n",
       "      <th></th>\n",
       "      <th>Postal Code</th>\n",
       "      <th>Borough</th>\n",
       "      <th>Neighbourhood</th>\n",
       "      <th>Latitude</th>\n",
       "      <th>Longitude</th>\n",
       "    </tr>\n",
       "  </thead>\n",
       "  <tbody>\n",
       "    <tr>\n",
       "      <th>0</th>\n",
       "      <td>M3A</td>\n",
       "      <td>North York</td>\n",
       "      <td>Parkwoods</td>\n",
       "      <td>43.753259</td>\n",
       "      <td>-79.329656</td>\n",
       "    </tr>\n",
       "    <tr>\n",
       "      <th>1</th>\n",
       "      <td>M4A</td>\n",
       "      <td>North York</td>\n",
       "      <td>Victoria Village</td>\n",
       "      <td>43.725882</td>\n",
       "      <td>-79.315572</td>\n",
       "    </tr>\n",
       "    <tr>\n",
       "      <th>2</th>\n",
       "      <td>M5A</td>\n",
       "      <td>Downtown Toronto</td>\n",
       "      <td>Regent Park, Harbourfront</td>\n",
       "      <td>43.654260</td>\n",
       "      <td>-79.360636</td>\n",
       "    </tr>\n",
       "    <tr>\n",
       "      <th>3</th>\n",
       "      <td>M6A</td>\n",
       "      <td>North York</td>\n",
       "      <td>Lawrence Manor, Lawrence Heights</td>\n",
       "      <td>43.718518</td>\n",
       "      <td>-79.464763</td>\n",
       "    </tr>\n",
       "    <tr>\n",
       "      <th>4</th>\n",
       "      <td>M7A</td>\n",
       "      <td>Downtown Toronto</td>\n",
       "      <td>Queen's Park, Ontario Provincial Government</td>\n",
       "      <td>43.662301</td>\n",
       "      <td>-79.389494</td>\n",
       "    </tr>\n",
       "    <tr>\n",
       "      <th>...</th>\n",
       "      <td>...</td>\n",
       "      <td>...</td>\n",
       "      <td>...</td>\n",
       "      <td>...</td>\n",
       "      <td>...</td>\n",
       "    </tr>\n",
       "    <tr>\n",
       "      <th>98</th>\n",
       "      <td>M8X</td>\n",
       "      <td>Etobicoke</td>\n",
       "      <td>The Kingsway, Montgomery Road, Old Mill North</td>\n",
       "      <td>43.653654</td>\n",
       "      <td>-79.506944</td>\n",
       "    </tr>\n",
       "    <tr>\n",
       "      <th>99</th>\n",
       "      <td>M4Y</td>\n",
       "      <td>Downtown Toronto</td>\n",
       "      <td>Church and Wellesley</td>\n",
       "      <td>43.665860</td>\n",
       "      <td>-79.383160</td>\n",
       "    </tr>\n",
       "    <tr>\n",
       "      <th>100</th>\n",
       "      <td>M7Y</td>\n",
       "      <td>East Toronto</td>\n",
       "      <td>Business reply mail Processing Centre, South C...</td>\n",
       "      <td>43.662744</td>\n",
       "      <td>-79.321558</td>\n",
       "    </tr>\n",
       "    <tr>\n",
       "      <th>101</th>\n",
       "      <td>M8Y</td>\n",
       "      <td>Etobicoke</td>\n",
       "      <td>Old Mill South, King's Mill Park, Sunnylea, Hu...</td>\n",
       "      <td>43.636258</td>\n",
       "      <td>-79.498509</td>\n",
       "    </tr>\n",
       "    <tr>\n",
       "      <th>102</th>\n",
       "      <td>M8Z</td>\n",
       "      <td>Etobicoke</td>\n",
       "      <td>Mimico NW, The Queensway West, South of Bloor,...</td>\n",
       "      <td>43.628841</td>\n",
       "      <td>-79.520999</td>\n",
       "    </tr>\n",
       "  </tbody>\n",
       "</table>\n",
       "<p>103 rows × 5 columns</p>\n",
       "</div>"
      ],
      "text/plain": [
       "    Postal Code           Borough  \\\n",
       "0           M3A        North York   \n",
       "1           M4A        North York   \n",
       "2           M5A  Downtown Toronto   \n",
       "3           M6A        North York   \n",
       "4           M7A  Downtown Toronto   \n",
       "..          ...               ...   \n",
       "98          M8X         Etobicoke   \n",
       "99          M4Y  Downtown Toronto   \n",
       "100         M7Y      East Toronto   \n",
       "101         M8Y         Etobicoke   \n",
       "102         M8Z         Etobicoke   \n",
       "\n",
       "                                         Neighbourhood   Latitude  Longitude  \n",
       "0                                            Parkwoods  43.753259 -79.329656  \n",
       "1                                     Victoria Village  43.725882 -79.315572  \n",
       "2                            Regent Park, Harbourfront  43.654260 -79.360636  \n",
       "3                     Lawrence Manor, Lawrence Heights  43.718518 -79.464763  \n",
       "4          Queen's Park, Ontario Provincial Government  43.662301 -79.389494  \n",
       "..                                                 ...        ...        ...  \n",
       "98       The Kingsway, Montgomery Road, Old Mill North  43.653654 -79.506944  \n",
       "99                                Church and Wellesley  43.665860 -79.383160  \n",
       "100  Business reply mail Processing Centre, South C...  43.662744 -79.321558  \n",
       "101  Old Mill South, King's Mill Park, Sunnylea, Hu...  43.636258 -79.498509  \n",
       "102  Mimico NW, The Queensway West, South of Bloor,...  43.628841 -79.520999  \n",
       "\n",
       "[103 rows x 5 columns]"
      ]
     },
     "execution_count": 31,
     "metadata": {},
     "output_type": "execute_result"
    }
   ],
   "source": [
    "combined_data = df.join(data.set_index('Postal Code'), on='Postal Code', how='inner')\n",
    "combined_data"
   ]
  },
  {
   "cell_type": "code",
   "execution_count": 32,
   "metadata": {},
   "outputs": [
    {
     "data": {
      "text/plain": [
       "(103, 5)"
      ]
     },
     "execution_count": 32,
     "metadata": {},
     "output_type": "execute_result"
    }
   ],
   "source": [
    "combined_data.shape"
   ]
  },
  {
   "cell_type": "markdown",
   "metadata": {},
   "source": [
    "Solution: We get 103 rows as expected when we do a inner join, so we have good data."
   ]
  },
  {
   "cell_type": "markdown",
   "metadata": {},
   "source": [
    "Question 3"
   ]
  },
  {
   "cell_type": "markdown",
   "metadata": {},
   "source": [
    "Drawing inspiration from the previous lab where we cluster the neighbourhood of NYC, We cluster Toronto based on the similarities of the venues categories using Kmeans clustering and Foursquare API."
   ]
  },
  {
   "cell_type": "code",
   "execution_count": 33,
   "metadata": {},
   "outputs": [],
   "source": [
    "from geopy.geocoders import Nominatim"
   ]
  },
  {
   "cell_type": "code",
   "execution_count": 34,
   "metadata": {},
   "outputs": [
    {
     "name": "stdout",
     "output_type": "stream",
     "text": [
      "The coordinates of Toronto are 43.6534817, -79.3839347.\n"
     ]
    }
   ],
   "source": [
    "address = 'Toronto, Ontario'\n",
    "\n",
    "geolocator = Nominatim(user_agent=\"toronto_explorer\")\n",
    "location = geolocator.geocode(address)\n",
    "latitude = location.latitude\n",
    "longitude = location.longitude\n",
    "print('The coordinates of Toronto are {}, {}.'.format(latitude, longitude))"
   ]
  },
  {
   "cell_type": "markdown",
   "metadata": {},
   "source": [
    "Let's visualize the map of Toronto"
   ]
  },
  {
   "cell_type": "code",
   "execution_count": 25,
   "metadata": {},
   "outputs": [
    {
     "name": "stdout",
     "output_type": "stream",
     "text": [
      "Requirement already satisfied: folium in c:\\users\\narayan prasad\\anaconda3\\lib\\site-packages (0.11.0)\n",
      "Requirement already satisfied: jinja2>=2.9 in c:\\users\\narayan prasad\\anaconda3\\lib\\site-packages (from folium) (2.11.2)\n",
      "Requirement already satisfied: requests in c:\\users\\narayan prasad\\anaconda3\\lib\\site-packages (from folium) (2.24.0)\n",
      "Requirement already satisfied: numpy in c:\\users\\narayan prasad\\anaconda3\\lib\\site-packages (from folium) (1.18.5)\n",
      "Requirement already satisfied: branca>=0.3.0 in c:\\users\\narayan prasad\\anaconda3\\lib\\site-packages (from folium) (0.4.1)\n",
      "Requirement already satisfied: MarkupSafe>=0.23 in c:\\users\\narayan prasad\\anaconda3\\lib\\site-packages (from jinja2>=2.9->folium) (1.1.1)\n",
      "Requirement already satisfied: chardet<4,>=3.0.2 in c:\\users\\narayan prasad\\anaconda3\\lib\\site-packages (from requests->folium) (3.0.4)\n",
      "Requirement already satisfied: urllib3!=1.25.0,!=1.25.1,<1.26,>=1.21.1 in c:\\users\\narayan prasad\\anaconda3\\lib\\site-packages (from requests->folium) (1.25.9)\n",
      "Requirement already satisfied: idna<3,>=2.5 in c:\\users\\narayan prasad\\anaconda3\\lib\\site-packages (from requests->folium) (2.10)\n",
      "Requirement already satisfied: certifi>=2017.4.17 in c:\\users\\narayan prasad\\anaconda3\\lib\\site-packages (from requests->folium) (2020.6.20)\n"
     ]
    }
   ],
   "source": [
    "!pip install folium"
   ]
  },
  {
   "cell_type": "code",
   "execution_count": 35,
   "metadata": {},
   "outputs": [],
   "source": [
    "import folium"
   ]
  },
  {
   "cell_type": "code",
   "execution_count": 36,
   "metadata": {},
   "outputs": [
    {
     "data": {
      "text/html": [
       "<div style=\"width:100%;\"><div style=\"position:relative;width:100%;height:0;padding-bottom:60%;\"><span style=\"color:#565656\">Make this Notebook Trusted to load map: File -> Trust Notebook</span><iframe src=\"about:blank\" style=\"position:absolute;width:100%;height:100%;left:0;top:0;border:none !important;\" data-html=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 onload=\"this.contentDocument.open();this.contentDocument.write(atob(this.getAttribute('data-html')));this.contentDocument.close();\" allowfullscreen webkitallowfullscreen mozallowfullscreen></iframe></div></div>"
      ],
      "text/plain": [
       "<folium.folium.Map at 0x1e5a85abd00>"
      ]
     },
     "execution_count": 36,
     "metadata": {},
     "output_type": "execute_result"
    }
   ],
   "source": [
    "# Creating the map of Toronto\n",
    "map_Toronto = folium.Map(location=[latitude, longitude], zoom_start=11)\n",
    "\n",
    "# adding markers to map\n",
    "for latitude, longitude, borough, neighbourhood in zip(combined_data['Latitude'], combined_data['Longitude'], combined_data['Borough'], combined_data['Neighbourhood']):\n",
    "    label = '{}, {}'.format(neighbourhood, borough)\n",
    "    label = folium.Popup(label, parse_html=True)\n",
    "    folium.CircleMarker(\n",
    "        [latitude, longitude],\n",
    "        radius=5,\n",
    "        popup=label,\n",
    "        color='red',\n",
    "        fill=True\n",
    "        ).add_to(map_Toronto)  \n",
    "    \n",
    "map_Toronto"
   ]
  },
  {
   "cell_type": "markdown",
   "metadata": {},
   "source": [
    "Initializing Foursquare API credentials"
   ]
  },
  {
   "cell_type": "code",
   "execution_count": 37,
   "metadata": {},
   "outputs": [
    {
     "name": "stdout",
     "output_type": "stream",
     "text": [
      "Your credentails:\n",
      "CLIENT_ID: LDIJF4KI5VGMMA3NNDLFZWHR12TCMNTUL0TUC3QPZ3SJD040\n",
      "CLIENT_SECRET:EOOOZ3EF5N0FOMNUJVTDV0SXVUVVEBMWPFXMNBK1R5K4H55A\n"
     ]
    }
   ],
   "source": [
    "CLIENT_ID = 'LDIJF4KI5VGMMA3NNDLFZWHR12TCMNTUL0TUC3QPZ3SJD040' \n",
    "CLIENT_SECRET = 'EOOOZ3EF5N0FOMNUJVTDV0SXVUVVEBMWPFXMNBK1R5K4H55A'\n",
    "VERSION = '20180605' # Foursquare API version\n",
    "\n",
    "print('Your credentails:')\n",
    "print('CLIENT_ID: ' + CLIENT_ID)\n",
    "print('CLIENT_SECRET:' + CLIENT_SECRET)"
   ]
  },
  {
   "cell_type": "markdown",
   "metadata": {},
   "source": [
    "Next, we create a function to get all the venue categories in Toronto"
   ]
  },
  {
   "cell_type": "markdown",
   "metadata": {},
   "source": [
    "Collecting the venues in Toronto for each Neighbourhood"
   ]
  },
  {
   "cell_type": "markdown",
   "metadata": {},
   "source": [
    "So we have 1317 records and 5 columns. Checking sample data"
   ]
  },
  {
   "cell_type": "markdown",
   "metadata": {},
   "source": [
    "Collecting the venues in Toronto for each Neighbourhood"
   ]
  },
  {
   "cell_type": "code",
   "execution_count": 72,
   "metadata": {},
   "outputs": [],
   "source": [
    "def getNearbyVenues(names, latitudes, longitudes, radius=500):\n",
    "    \n",
    "    venues_list=[]\n",
    "    for name, lat, lng in zip(names, latitudes, longitudes):\n",
    "        print(name)\n",
    "            \n",
    "        # create the API request URL\n",
    "        url = 'https://api.foursquare.com/v2/venues/explore?&client_id={}&client_secret={}&v={}&ll={},{}&radius={}'.format(\n",
    "            CLIENT_ID, \n",
    "            CLIENT_SECRET, \n",
    "            VERSION, \n",
    "            lat, \n",
    "            lng, \n",
    "            radius,\n",
    "            )\n",
    "            \n",
    "        # make the GET request\n",
    "        results = requests.get(url).json()[\"response\"]['groups'][0]['items']\n",
    "        \n",
    "        # return only relevant information for each nearby venue\n",
    "        venues_list.append([(\n",
    "            name, \n",
    "            lat, \n",
    "            lng, \n",
    "            v['venue']['name'],\n",
    "            v['venue']['location']['lat'],\n",
    "            v['venue']['Location']['lng'],\n",
    "            v['venue']['categories'][0]['name']) for v in results])\n",
    "\n",
    "    nearby_venues = pd.DataFrame([item for venue_list in venues_list for item in venue_list])\n",
    "    nearby_venues.columns = ['Neighbourhood', \n",
    "                  'Neighbourhood Latitude', \n",
    "                  'Neighbourhood Longitude', \n",
    "                  'Venue', \n",
    "                  'Venue Latitudes',\n",
    "                  'Venue Longitude'           \n",
    "                  'Venue Category']\n",
    "    \n",
    "    return(nearby_venues)\n"
   ]
  },
  {
   "cell_type": "code",
   "execution_count": 71,
   "metadata": {},
   "outputs": [
    {
     "name": "stdout",
     "output_type": "stream",
     "text": [
      "Parkwoods\n"
     ]
    },
    {
     "ename": "KeyError",
     "evalue": "'groups'",
     "output_type": "error",
     "traceback": [
      "\u001b[1;31m---------------------------------------------------------------------------\u001b[0m",
      "\u001b[1;31mKeyError\u001b[0m                                  Traceback (most recent call last)",
      "\u001b[1;32m<ipython-input-71-75caffd372b9>\u001b[0m in \u001b[0;36m<module>\u001b[1;34m\u001b[0m\n\u001b[1;32m----> 1\u001b[1;33m \u001b[0mvenues_in_toronto\u001b[0m \u001b[1;33m=\u001b[0m \u001b[0mgetNearbyVenues\u001b[0m\u001b[1;33m(\u001b[0m\u001b[0mcombined_data\u001b[0m\u001b[1;33m[\u001b[0m\u001b[1;34m'Neighbourhood'\u001b[0m\u001b[1;33m]\u001b[0m\u001b[1;33m,\u001b[0m \u001b[0mcombined_data\u001b[0m\u001b[1;33m[\u001b[0m\u001b[1;34m'Latitude'\u001b[0m\u001b[1;33m]\u001b[0m\u001b[1;33m,\u001b[0m \u001b[0mcombined_data\u001b[0m\u001b[1;33m[\u001b[0m\u001b[1;34m'Longitude'\u001b[0m\u001b[1;33m]\u001b[0m\u001b[1;33m)\u001b[0m\u001b[1;33m\u001b[0m\u001b[1;33m\u001b[0m\u001b[0m\n\u001b[0m",
      "\u001b[1;32m<ipython-input-70-0da912e70da3>\u001b[0m in \u001b[0;36mgetNearbyVenues\u001b[1;34m(names, latitudes, longitudes, radius)\u001b[0m\n\u001b[0;32m     16\u001b[0m \u001b[1;33m\u001b[0m\u001b[0m\n\u001b[0;32m     17\u001b[0m         \u001b[1;31m# make the GET request\u001b[0m\u001b[1;33m\u001b[0m\u001b[1;33m\u001b[0m\u001b[1;33m\u001b[0m\u001b[0m\n\u001b[1;32m---> 18\u001b[1;33m         \u001b[0mresults\u001b[0m \u001b[1;33m=\u001b[0m \u001b[0mrequests\u001b[0m\u001b[1;33m.\u001b[0m\u001b[0mget\u001b[0m\u001b[1;33m(\u001b[0m\u001b[0murl\u001b[0m\u001b[1;33m)\u001b[0m\u001b[1;33m.\u001b[0m\u001b[0mjson\u001b[0m\u001b[1;33m(\u001b[0m\u001b[1;33m)\u001b[0m\u001b[1;33m[\u001b[0m\u001b[1;34m\"response\"\u001b[0m\u001b[1;33m]\u001b[0m\u001b[1;33m[\u001b[0m\u001b[1;34m'groups'\u001b[0m\u001b[1;33m]\u001b[0m\u001b[1;33m[\u001b[0m\u001b[1;36m0\u001b[0m\u001b[1;33m]\u001b[0m\u001b[1;33m[\u001b[0m\u001b[1;34m'items'\u001b[0m\u001b[1;33m]\u001b[0m\u001b[1;33m\u001b[0m\u001b[1;33m\u001b[0m\u001b[0m\n\u001b[0m\u001b[0;32m     19\u001b[0m \u001b[1;33m\u001b[0m\u001b[0m\n\u001b[0;32m     20\u001b[0m         \u001b[1;31m# return only relevant information for each nearby venue\u001b[0m\u001b[1;33m\u001b[0m\u001b[1;33m\u001b[0m\u001b[1;33m\u001b[0m\u001b[0m\n",
      "\u001b[1;31mKeyError\u001b[0m: 'groups'"
     ]
    }
   ],
   "source": [
    "venues_in_toronto = getNearbyVenues(combined_data['Neighbourhood'], combined_data['Latitude'], combined_data['Longitude'])"
   ]
  },
  {
   "cell_type": "code",
   "execution_count": 73,
   "metadata": {},
   "outputs": [
    {
     "ename": "NameError",
     "evalue": "name 'venues_in_toronto' is not defined",
     "output_type": "error",
     "traceback": [
      "\u001b[1;31m---------------------------------------------------------------------------\u001b[0m",
      "\u001b[1;31mNameError\u001b[0m                                 Traceback (most recent call last)",
      "\u001b[1;32m<ipython-input-73-7287564b3d49>\u001b[0m in \u001b[0;36m<module>\u001b[1;34m\u001b[0m\n\u001b[1;32m----> 1\u001b[1;33m \u001b[0mvenues_in_toronto\u001b[0m\u001b[1;33m.\u001b[0m\u001b[0mshape\u001b[0m\u001b[1;33m\u001b[0m\u001b[1;33m\u001b[0m\u001b[0m\n\u001b[0m",
      "\u001b[1;31mNameError\u001b[0m: name 'venues_in_toronto' is not defined"
     ]
    }
   ],
   "source": [
    "venues_in_toronto.shape"
   ]
  },
  {
   "cell_type": "markdown",
   "metadata": {},
   "source": [
    "Checking the Venues based on Neighbourhood\n",
    "\n"
   ]
  },
  {
   "cell_type": "code",
   "execution_count": 74,
   "metadata": {},
   "outputs": [
    {
     "ename": "NameError",
     "evalue": "name 'venues_in_toronto' is not defined",
     "output_type": "error",
     "traceback": [
      "\u001b[1;31m---------------------------------------------------------------------------\u001b[0m",
      "\u001b[1;31mNameError\u001b[0m                                 Traceback (most recent call last)",
      "\u001b[1;32m<ipython-input-74-c28e2747b73c>\u001b[0m in \u001b[0;36m<module>\u001b[1;34m\u001b[0m\n\u001b[1;32m----> 1\u001b[1;33m \u001b[0mvenues_in_toronto\u001b[0m\u001b[1;33m.\u001b[0m\u001b[0mgroupby\u001b[0m\u001b[1;33m(\u001b[0m\u001b[1;34m'Neighbourhood'\u001b[0m\u001b[1;33m)\u001b[0m\u001b[1;33m.\u001b[0m\u001b[0mhead\u001b[0m\u001b[1;33m(\u001b[0m\u001b[1;33m)\u001b[0m\u001b[1;33m\u001b[0m\u001b[1;33m\u001b[0m\u001b[0m\n\u001b[0m",
      "\u001b[1;31mNameError\u001b[0m: name 'venues_in_toronto' is not defined"
     ]
    }
   ],
   "source": [
    "venues_in_toronto.groupby('Neighbourhood').head()"
   ]
  },
  {
   "cell_type": "markdown",
   "metadata": {},
   "source": [
    "One Hot encoding the venue Categories\n"
   ]
  },
  {
   "cell_type": "code",
   "execution_count": 75,
   "metadata": {},
   "outputs": [
    {
     "ename": "NameError",
     "evalue": "name 'venues_in_toronto' is not defined",
     "output_type": "error",
     "traceback": [
      "\u001b[1;31m---------------------------------------------------------------------------\u001b[0m",
      "\u001b[1;31mNameError\u001b[0m                                 Traceback (most recent call last)",
      "\u001b[1;32m<ipython-input-75-1d0fa776bbab>\u001b[0m in \u001b[0;36m<module>\u001b[1;34m\u001b[0m\n\u001b[1;32m----> 1\u001b[1;33m \u001b[0mtoronto_venue_cat\u001b[0m \u001b[1;33m=\u001b[0m \u001b[0mpd\u001b[0m\u001b[1;33m.\u001b[0m\u001b[0mget_dummies\u001b[0m\u001b[1;33m(\u001b[0m\u001b[0mvenues_in_toronto\u001b[0m\u001b[1;33m[\u001b[0m\u001b[1;33m[\u001b[0m\u001b[1;34m'Venue Category'\u001b[0m\u001b[1;33m]\u001b[0m\u001b[1;33m]\u001b[0m\u001b[1;33m,\u001b[0m \u001b[0mprefix\u001b[0m\u001b[1;33m=\u001b[0m\u001b[1;34m\"\"\u001b[0m\u001b[1;33m,\u001b[0m \u001b[0mprefix_sep\u001b[0m\u001b[1;33m=\u001b[0m\u001b[1;34m\"\"\u001b[0m\u001b[1;33m)\u001b[0m\u001b[1;33m\u001b[0m\u001b[1;33m\u001b[0m\u001b[0m\n\u001b[0m\u001b[0;32m      2\u001b[0m \u001b[0mtoronto_venue_cat\u001b[0m\u001b[1;33m\u001b[0m\u001b[1;33m\u001b[0m\u001b[0m\n",
      "\u001b[1;31mNameError\u001b[0m: name 'venues_in_toronto' is not defined"
     ]
    }
   ],
   "source": [
    "toronto_venue_cat = pd.get_dummies(venues_in_toronto[['Venue Category']], prefix=\"\", prefix_sep=\"\")\n",
    "toronto_venue_cat"
   ]
  },
  {
   "cell_type": "code",
   "execution_count": 76,
   "metadata": {},
   "outputs": [
    {
     "ename": "NameError",
     "evalue": "name 'venues_in_toronto' is not defined",
     "output_type": "error",
     "traceback": [
      "\u001b[1;31m---------------------------------------------------------------------------\u001b[0m",
      "\u001b[1;31mNameError\u001b[0m                                 Traceback (most recent call last)",
      "\u001b[1;32m<ipython-input-76-d07b4a590e32>\u001b[0m in \u001b[0;36m<module>\u001b[1;34m\u001b[0m\n\u001b[1;32m----> 1\u001b[1;33m \u001b[0mtoronto_venue_cat\u001b[0m\u001b[1;33m[\u001b[0m\u001b[1;34m'Neighbourhood'\u001b[0m\u001b[1;33m]\u001b[0m \u001b[1;33m=\u001b[0m \u001b[0mvenues_in_toronto\u001b[0m\u001b[1;33m[\u001b[0m\u001b[1;34m'Neighbourhood'\u001b[0m\u001b[1;33m]\u001b[0m\u001b[1;33m\u001b[0m\u001b[1;33m\u001b[0m\u001b[0m\n\u001b[0m\u001b[0;32m      2\u001b[0m \u001b[1;33m\u001b[0m\u001b[0m\n\u001b[0;32m      3\u001b[0m \u001b[1;31m# moving neighborhood column to the first column\u001b[0m\u001b[1;33m\u001b[0m\u001b[1;33m\u001b[0m\u001b[1;33m\u001b[0m\u001b[0m\n\u001b[0;32m      4\u001b[0m \u001b[0mfixed_columns\u001b[0m \u001b[1;33m=\u001b[0m \u001b[1;33m[\u001b[0m\u001b[0mtoronto_venue_cat\u001b[0m\u001b[1;33m.\u001b[0m\u001b[0mcolumns\u001b[0m\u001b[1;33m[\u001b[0m\u001b[1;33m-\u001b[0m\u001b[1;36m1\u001b[0m\u001b[1;33m]\u001b[0m\u001b[1;33m]\u001b[0m \u001b[1;33m+\u001b[0m \u001b[0mlist\u001b[0m\u001b[1;33m(\u001b[0m\u001b[0mtoronto_venue_cat\u001b[0m\u001b[1;33m.\u001b[0m\u001b[0mcolumns\u001b[0m\u001b[1;33m[\u001b[0m\u001b[1;33m:\u001b[0m\u001b[1;33m-\u001b[0m\u001b[1;36m1\u001b[0m\u001b[1;33m]\u001b[0m\u001b[1;33m)\u001b[0m\u001b[1;33m\u001b[0m\u001b[1;33m\u001b[0m\u001b[0m\n\u001b[0;32m      5\u001b[0m \u001b[0mtoronto_venue_cat\u001b[0m \u001b[1;33m=\u001b[0m \u001b[0mtoronto_venue_cat\u001b[0m\u001b[1;33m[\u001b[0m\u001b[0mfixed_columns\u001b[0m\u001b[1;33m]\u001b[0m\u001b[1;33m\u001b[0m\u001b[1;33m\u001b[0m\u001b[0m\n",
      "\u001b[1;31mNameError\u001b[0m: name 'venues_in_toronto' is not defined"
     ]
    }
   ],
   "source": [
    "toronto_venue_cat['Neighbourhood'] = venues_in_toronto['Neighbourhood'] \n",
    "\n",
    "# moving neighborhood column to the first column\n",
    "fixed_columns = [toronto_venue_cat.columns[-1]] + list(toronto_venue_cat.columns[:-1])\n",
    "toronto_venue_cat = toronto_venue_cat[fixed_columns]\n",
    "\n",
    "toronto_venue_cat.head()"
   ]
  },
  {
   "cell_type": "code",
   "execution_count": 77,
   "metadata": {},
   "outputs": [
    {
     "ename": "NameError",
     "evalue": "name 'toronto_venue_cat' is not defined",
     "output_type": "error",
     "traceback": [
      "\u001b[1;31m---------------------------------------------------------------------------\u001b[0m",
      "\u001b[1;31mNameError\u001b[0m                                 Traceback (most recent call last)",
      "\u001b[1;32m<ipython-input-77-35ac90c55585>\u001b[0m in \u001b[0;36m<module>\u001b[1;34m\u001b[0m\n\u001b[1;32m----> 1\u001b[1;33m \u001b[0mtoronto_grouped\u001b[0m \u001b[1;33m=\u001b[0m \u001b[0mtoronto_venue_cat\u001b[0m\u001b[1;33m.\u001b[0m\u001b[0mgroupby\u001b[0m\u001b[1;33m(\u001b[0m\u001b[1;34m'Neighbourhood'\u001b[0m\u001b[1;33m)\u001b[0m\u001b[1;33m.\u001b[0m\u001b[0mmean\u001b[0m\u001b[1;33m(\u001b[0m\u001b[1;33m)\u001b[0m\u001b[1;33m.\u001b[0m\u001b[0mreset_index\u001b[0m\u001b[1;33m(\u001b[0m\u001b[1;33m)\u001b[0m\u001b[1;33m\u001b[0m\u001b[1;33m\u001b[0m\u001b[0m\n\u001b[0m\u001b[0;32m      2\u001b[0m \u001b[0mtoronto_grouped\u001b[0m\u001b[1;33m.\u001b[0m\u001b[0mhead\u001b[0m\u001b[1;33m(\u001b[0m\u001b[1;33m)\u001b[0m\u001b[1;33m\u001b[0m\u001b[1;33m\u001b[0m\u001b[0m\n",
      "\u001b[1;31mNameError\u001b[0m: name 'toronto_venue_cat' is not defined"
     ]
    }
   ],
   "source": [
    "toronto_grouped = toronto_venue_cat.groupby('Neighbourhood').mean().reset_index()\n",
    "toronto_grouped.head()"
   ]
  },
  {
   "cell_type": "markdown",
   "metadata": {},
   "source": [
    "Let's make a function to get the top most common venue categories"
   ]
  },
  {
   "cell_type": "code",
   "execution_count": 79,
   "metadata": {},
   "outputs": [],
   "source": [
    "def return_most_common_venues(row, num_top_venues):\n",
    "    row_categories = row.iloc[1:]\n",
    "    row_categories_sorted = row_categories.sort_values(ascending=False)\n",
    "    \n",
    "    return row_categories_sorted.index.values[0:num_top_venues]"
   ]
  },
  {
   "cell_type": "code",
   "execution_count": 80,
   "metadata": {},
   "outputs": [],
   "source": [
    "import numpy as np"
   ]
  },
  {
   "cell_type": "code",
   "execution_count": 81,
   "metadata": {},
   "outputs": [
    {
     "ename": "NameError",
     "evalue": "name 'toronto_grouped' is not defined",
     "output_type": "error",
     "traceback": [
      "\u001b[1;31m---------------------------------------------------------------------------\u001b[0m",
      "\u001b[1;31mNameError\u001b[0m                                 Traceback (most recent call last)",
      "\u001b[1;32m<ipython-input-81-b31f7bc06c72>\u001b[0m in \u001b[0;36m<module>\u001b[1;34m\u001b[0m\n\u001b[0;32m     13\u001b[0m \u001b[1;31m# create a new dataframe\u001b[0m\u001b[1;33m\u001b[0m\u001b[1;33m\u001b[0m\u001b[1;33m\u001b[0m\u001b[0m\n\u001b[0;32m     14\u001b[0m \u001b[0mneighborhoods_venues_sorted\u001b[0m \u001b[1;33m=\u001b[0m \u001b[0mpd\u001b[0m\u001b[1;33m.\u001b[0m\u001b[0mDataFrame\u001b[0m\u001b[1;33m(\u001b[0m\u001b[0mcolumns\u001b[0m\u001b[1;33m=\u001b[0m\u001b[0mcolumns\u001b[0m\u001b[1;33m)\u001b[0m\u001b[1;33m\u001b[0m\u001b[1;33m\u001b[0m\u001b[0m\n\u001b[1;32m---> 15\u001b[1;33m \u001b[0mneighborhoods_venues_sorted\u001b[0m\u001b[1;33m[\u001b[0m\u001b[1;34m'Neighbourhood'\u001b[0m\u001b[1;33m]\u001b[0m \u001b[1;33m=\u001b[0m \u001b[0mtoronto_grouped\u001b[0m\u001b[1;33m[\u001b[0m\u001b[1;34m'Neighbourhood'\u001b[0m\u001b[1;33m]\u001b[0m\u001b[1;33m\u001b[0m\u001b[1;33m\u001b[0m\u001b[0m\n\u001b[0m\u001b[0;32m     16\u001b[0m \u001b[1;33m\u001b[0m\u001b[0m\n\u001b[0;32m     17\u001b[0m \u001b[1;32mfor\u001b[0m \u001b[0mind\u001b[0m \u001b[1;32min\u001b[0m \u001b[0mnp\u001b[0m\u001b[1;33m.\u001b[0m\u001b[0marange\u001b[0m\u001b[1;33m(\u001b[0m\u001b[0mtoronto_grouped\u001b[0m\u001b[1;33m.\u001b[0m\u001b[0mshape\u001b[0m\u001b[1;33m[\u001b[0m\u001b[1;36m0\u001b[0m\u001b[1;33m]\u001b[0m\u001b[1;33m)\u001b[0m\u001b[1;33m:\u001b[0m\u001b[1;33m\u001b[0m\u001b[1;33m\u001b[0m\u001b[0m\n",
      "\u001b[1;31mNameError\u001b[0m: name 'toronto_grouped' is not defined"
     ]
    }
   ],
   "source": [
    "num_top_venues = 10\n",
    "\n",
    "indicators = ['st', 'nd', 'rd']\n",
    "\n",
    "# create columns according to number of top venues\n",
    "columns = ['Neighbourhood']\n",
    "for ind in np.arange(num_top_venues):\n",
    "    try:\n",
    "        columns.append('{}{} Most Common Venue'.format(ind+1, indicators[ind]))\n",
    "    except:\n",
    "        columns.append('{}th Most Common Venue'.format(ind+1))\n",
    "\n",
    "# create a new dataframe\n",
    "neighborhoods_venues_sorted = pd.DataFrame(columns=columns)\n",
    "neighborhoods_venues_sorted['Neighbourhood'] = toronto_grouped['Neighbourhood']\n",
    "\n",
    "for ind in np.arange(toronto_grouped.shape[0]):\n",
    "    neighborhoods_venues_sorted.iloc[ind, 1:] = return_most_common_venues(toronto_grouped.iloc[ind, :], num_top_venues)\n",
    "\n",
    "neighborhoods_venues_sorted.head()          "
   ]
  },
  {
   "cell_type": "code",
   "execution_count": 82,
   "metadata": {},
   "outputs": [],
   "source": [
    "# import k-means from clustering stage\n",
    "from sklearn.cluster import KMeans"
   ]
  },
  {
   "cell_type": "code",
   "execution_count": 83,
   "metadata": {},
   "outputs": [
    {
     "ename": "NameError",
     "evalue": "name 'toronto_grouped' is not defined",
     "output_type": "error",
     "traceback": [
      "\u001b[1;31m---------------------------------------------------------------------------\u001b[0m",
      "\u001b[1;31mNameError\u001b[0m                                 Traceback (most recent call last)",
      "\u001b[1;32m<ipython-input-83-20ecdc7b180b>\u001b[0m in \u001b[0;36m<module>\u001b[1;34m\u001b[0m\n\u001b[0;32m      2\u001b[0m \u001b[0mk_num_clusters\u001b[0m \u001b[1;33m=\u001b[0m \u001b[1;36m5\u001b[0m\u001b[1;33m\u001b[0m\u001b[1;33m\u001b[0m\u001b[0m\n\u001b[0;32m      3\u001b[0m \u001b[1;33m\u001b[0m\u001b[0m\n\u001b[1;32m----> 4\u001b[1;33m \u001b[0mtoronto_grouped_clustering\u001b[0m \u001b[1;33m=\u001b[0m \u001b[0mtoronto_grouped\u001b[0m\u001b[1;33m.\u001b[0m\u001b[0mdrop\u001b[0m\u001b[1;33m(\u001b[0m\u001b[1;34m'Neighbourhood'\u001b[0m\u001b[1;33m,\u001b[0m \u001b[1;36m1\u001b[0m\u001b[1;33m)\u001b[0m\u001b[1;33m\u001b[0m\u001b[1;33m\u001b[0m\u001b[0m\n\u001b[0m\u001b[0;32m      5\u001b[0m \u001b[1;33m\u001b[0m\u001b[0m\n\u001b[0;32m      6\u001b[0m \u001b[1;31m# run k-means clustering\u001b[0m\u001b[1;33m\u001b[0m\u001b[1;33m\u001b[0m\u001b[1;33m\u001b[0m\u001b[0m\n",
      "\u001b[1;31mNameError\u001b[0m: name 'toronto_grouped' is not defined"
     ]
    }
   ],
   "source": [
    "# set number of clusters\n",
    "k_num_clusters = 5\n",
    "\n",
    "toronto_grouped_clustering = toronto_grouped.drop('Neighbourhood', 1)\n",
    "\n",
    "# run k-means clustering\n",
    "kmeans = KMeans(n_clusters=k_num_clusters, random_state=0).fit(toronto_grouped_clustering)\n",
    "kmeans\n"
   ]
  },
  {
   "cell_type": "code",
   "execution_count": null,
   "metadata": {},
   "outputs": [],
   "source": []
  }
 ],
 "metadata": {
  "kernelspec": {
   "display_name": "Python 3",
   "language": "python",
   "name": "python3"
  },
  "language_info": {
   "codemirror_mode": {
    "name": "ipython",
    "version": 3
   },
   "file_extension": ".py",
   "mimetype": "text/x-python",
   "name": "python",
   "nbconvert_exporter": "python",
   "pygments_lexer": "ipython3",
   "version": "3.8.3"
  }
 },
 "nbformat": 4,
 "nbformat_minor": 4
}
