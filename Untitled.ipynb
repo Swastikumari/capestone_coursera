{
 "cells": [
  {
   "cell_type": "code",
   "execution_count": 2,
   "metadata": {},
   "outputs": [
    {
     "name": "stdout",
     "output_type": "stream",
     "text": [
      "Requirement already satisfied: conda in c:\\users\\narayan prasad\\anaconda3\\lib\\site-packages (4.8.3)\n",
      "Requirement already satisfied: pycosat>=0.6.3 in c:\\users\\narayan prasad\\anaconda3\\lib\\site-packages (from conda) (0.6.3)\n",
      "Requirement already satisfied: requests>=2.12.4 in c:\\users\\narayan prasad\\anaconda3\\lib\\site-packages (from conda) (2.24.0)\n",
      "Requirement already satisfied: ruamel_yaml>=0.11.14 in c:\\users\\narayan prasad\\anaconda3\\lib\\site-packages (from conda) (0.15.87)\n",
      "Requirement already satisfied: menuinst in c:\\users\\narayan prasad\\anaconda3\\lib\\site-packages (from conda) (1.4.16)\n",
      "Requirement already satisfied: certifi>=2017.4.17 in c:\\users\\narayan prasad\\anaconda3\\lib\\site-packages (from requests>=2.12.4->conda) (2020.6.20)\n",
      "Requirement already satisfied: urllib3!=1.25.0,!=1.25.1,<1.26,>=1.21.1 in c:\\users\\narayan prasad\\anaconda3\\lib\\site-packages (from requests>=2.12.4->conda) (1.25.9)\n",
      "Requirement already satisfied: chardet<4,>=3.0.2 in c:\\users\\narayan prasad\\anaconda3\\lib\\site-packages (from requests>=2.12.4->conda) (3.0.4)\n",
      "Requirement already satisfied: idna<3,>=2.5 in c:\\users\\narayan prasad\\anaconda3\\lib\\site-packages (from requests>=2.12.4->conda) (2.10)\n"
     ]
    }
   ],
   "source": [
    "!pip install conda"
   ]
  },
  {
   "cell_type": "code",
   "execution_count": null,
   "metadata": {},
   "outputs": [],
   "source": []
  },
  {
   "cell_type": "code",
   "execution_count": null,
   "metadata": {},
   "outputs": [],
   "source": []
  },
  {
   "cell_type": "code",
   "execution_count": 8,
   "metadata": {},
   "outputs": [],
   "source": [
    "import bs4"
   ]
  },
  {
   "cell_type": "code",
   "execution_count": 9,
   "metadata": {},
   "outputs": [],
   "source": [
    "import requests "
   ]
  },
  {
   "cell_type": "code",
   "execution_count": 10,
   "metadata": {},
   "outputs": [],
   "source": [
    "res=requests.get('https://www.farfetch.com/in/')"
   ]
  },
  {
   "cell_type": "code",
   "execution_count": null,
   "metadata": {},
   "outputs": [],
   "source": [
    "from bs4 import BeautifulSoup \n",
    "import requests \n",
    "page = requests.get(\"https://www.google.dz/search?q=see\") \n",
    "soup = BeautifulSoup(page.content) \n",
    "links = soup.findAll(\"a\") \n",
    "for link in links: \n",
    "    if link['href'].startswith('/url?q='): \n",
    "        print (link['href'].replace('/url?q=',''))"
   ]
  }
 ],
 "metadata": {
  "kernelspec": {
   "display_name": "Python 3",
   "language": "python",
   "name": "python3"
  },
  "language_info": {
   "codemirror_mode": {
    "name": "ipython",
    "version": 3
   },
   "file_extension": ".py",
   "mimetype": "text/x-python",
   "name": "python",
   "nbconvert_exporter": "python",
   "pygments_lexer": "ipython3",
   "version": "3.8.3"
  }
 },
 "nbformat": 4,
 "nbformat_minor": 4
}
