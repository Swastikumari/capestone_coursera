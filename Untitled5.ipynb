{
 "cells": [
  {
   "cell_type": "markdown",
   "metadata": {},
   "source": [
    "Coursera_Capstone"
   ]
  },
  {
   "cell_type": "markdown",
   "metadata": {},
   "source": [
    "Capstone project : Battle of the Neighbourhoods\n",
    "\n"
   ]
  },
  {
   "cell_type": "markdown",
   "metadata": {},
   "source": [
    "Clustering Neighbourhoods by demographic data\n"
   ]
  },
  {
   "cell_type": "markdown",
   "metadata": {},
   "source": [
    "Use case : I want to find the best area to open my new restaurant"
   ]
  },
  {
   "cell_type": "markdown",
   "metadata": {},
   "source": [
    "1. Introduction"
   ]
  },
  {
   "cell_type": "markdown",
   "metadata": {},
   "source": [
    "This project is about finding the best neighbourhoods in the city of Toronto to open a new restaurant of a specific type (for example : chinese, or italian restaurant).\n",
    "This project would interest anyone which wants to open a new restaurant in the city of Toronto, and seeks the best neighbourhoods where the habitants would likely eat in this kind of restaurant, and where the competition is limited (e.g. there is a a reasonable number of existing restaurants of the same type in the neighbourhood)."
   ]
  },
  {
   "cell_type": "markdown",
   "metadata": {},
   "source": [
    "This project is about finding the best neighbourhoods in the city of Toronto to open a new restaurant of a specific type (for example : chinese, or italian restaurant).\n",
    "This project would interest anyone which wants to open a new restaurant in the city of Toronto, and seeks the best neighbourhoods where the habitants would likely eat in this kind of restaurant, and where the competition is limited (e.g. there is a a reasonable number of existing restaurants of the same type in the neighbourhood)."
   ]
  },
  {
   "cell_type": "markdown",
   "metadata": {},
   "source": [
    "With this kind of demographic data associated with different neighbourhoods of Toronto, we can cluster neighbourhoods by demographic data. Thus, we will be able to distinguish the areas where a lot of chinese people live, the areas where a lot of italian people live, and so on, based on the clustering"
   ]
  },
  {
   "cell_type": "markdown",
   "metadata": {},
   "source": [
    "1.2 - Find the best neighbourhoods within a cluster to open the restaurant\n",
    "Once the neighbourhoods have been categorised into clusters, and we've got a list of neighbourhoods where people living there would likely want to eat in the restaurant we want to open, we need to find out in which neighbourhoods there is less competition. It means that we have to find out what neighbourhoods contain the lowest number of existing restaurants of the same type as the one we want to open.\n",
    "\n",
    "In order to count the number of existing restaurants of the same type in a neighbourhood, we perform a FoursquareAPI explore query. Like that, we obtain the list of venues of each neighbourhood, and we can count the number of restaurants of each type."
   ]
  },
  {
   "cell_type": "markdown",
   "metadata": {},
   "source": [
    "2.Data\n"
   ]
  },
  {
   "cell_type": "markdown",
   "metadata": {},
   "source": [
    "2.1 - Demographic data from the City of Toronto's open data"
   ]
  },
  {
   "cell_type": "markdown",
   "metadata": {},
   "source": [
    "The list of neighbourhoods, and the demographic data associated to each neighbourhood, has been made available by the city of Toronto here :\n"
   ]
  },
  {
   "cell_type": "markdown",
   "metadata": {},
   "source": [
    "1.https://www.toronto.ca/ext/open_data/catalog/data_set_files/2016_neighbourhood_profiles.csv"
   ]
  },
  {
   "cell_type": "markdown",
   "metadata": {},
   "source": [
    "The Toronto demographic dataset contains multiple features such as :\n"
   ]
  },
  {
   "cell_type": "markdown",
   "metadata": {},
   "source": [
    "1.Citizenship"
   ]
  },
  {
   "cell_type": "markdown",
   "metadata": {},
   "source": [
    "2.Ethnic origin"
   ]
  },
  {
   "cell_type": "markdown",
   "metadata": {},
   "source": [
    "3.Income\n"
   ]
  },
  {
   "cell_type": "markdown",
   "metadata": {},
   "source": [
    "4 etc"
   ]
  },
  {
   "cell_type": "markdown",
   "metadata": {},
   "source": [
    "For this project, we use the Ethnic origin and the Neighbourhood information for each neighbourhood, in order to cluster the neighbourhoods of Toronto"
   ]
  },
  {
   "cell_type": "markdown",
   "metadata": {},
   "source": [
    "Examples of data from the dataset :"
   ]
  },
  {
   "cell_type": "markdown",
   "metadata": {},
   "source": [
    "Neighbourhood information data :"
   ]
  },
  {
   "cell_type": "markdown",
   "metadata": {},
   "source": [
    "Category\tTopic\tData Source\tCharacteristic\tCity of Toronto\tAgincourt North\tAgincourt South-Malvern West\tAlderwood\tAnnex\tBanbury-Don Mills\tBathurst Manor\tBay Street Corridor\tBayview Village\tBayview Woods-Steeles\tBedford Park-Nortown\tBeechborough-Greenbrook\tBendale\tBirchcliffe-Cliffside\tBlack Creek\tBlake-Jones\tBriar Hill-Belgravia\tBridle Path-Sunnybrook-York Mills\tBroadview North\tBrookhaven-Amesbury\tCabbagetown-South St. James Town\tCaledonia-Fairbank\tCasa Loma\tCentennial Scarborough\tChurch-Yonge Corridor\tClairlea-Birchmount\tClanton Park\tCliffcrest\tCorso Italia-Davenport\tDanforth\tDanforth East York\tDon Valley Village\tDorset Park\tDovercourt-Wallace Emerson-Junction\tDownsview-Roding-CFB\tDufferin Grove\tEast End-Danforth\tEdenbridge-Humber Valley\tEglinton East\tElms-Old Rexdale\tEnglemount-Lawrence\tEringate-Centennial-West Deane\tEtobicoke West Mall\tFlemingdon Park\tForest Hill North\tForest Hill South\tGlenfield-Jane Heights\tGreenwood-Coxwell\tGuildwood\tHenry Farm\tHigh Park North\tHigh Park-Swansea\tHighland Creek\tHillcrest Village\tHumber Heights-Westmount\tHumber Summit\tHumbermede\tHumewood-Cedarvale\tIonview\tIslington-City Centre West\tJunction Area\tKeelesdale-Eglinton West\tKennedy Park\tKensington-Chinatown\tKingsview Village-The Westway\tKingsway South\tLambton Baby Point\tL'Amoreaux\tLansing-Westgate\tLawrence Park North\tLawrence Park South\tLeaside-Bennington\tLittle Portugal\tLong Branch\tMalvern\tMaple Leaf\tMarkland Wood\tMilliken\tMimico (includes Humber Bay Shores)\tMorningside\tMoss Park\tMount Dennis\tMount Olive-Silverstone-Jamestown\tMount Pleasant East\tMount Pleasant West\tNew Toronto\tNewtonbrook East\tNewtonbrook West\tNiagara\tNorth Riverdale\tNorth St. James Town\tOakridge\tOakwood Village\tO'Connor-Parkview\tOld East York\tPalmerston-Little Italy\tParkwoods-Donalda\tPelmo Park-Humberlea\tPlayter Estates-Danforth\tPleasant View\tPrincess-Rosethorn\tRegent Park\tRexdale-Kipling\tRockcliffe-Smythe\tRoncesvalles\tRosedale-Moore Park\tRouge\tRunnymede-Bloor West Village\tRustic\tScarborough Village\tSouth Parkdale\tSouth Riverdale\tSt.Andrew-Windfields\tSteeles\tStonegate-Queensway\tTam O'Shanter-Sullivan\tTaylor-Massey\tThe Beaches\tThistletown-Beaumond Heights\tThorncliffe Park\tTrinity-Bellwoods\tUniversity\tVictoria Village\tWaterfront Communities-The Island\tWest Hill\tWest Humber-Clairville\tWestminster-Branson\tWeston\tWeston-Pelham Park\tWexford/Maryvale\tWillowdale East\tWillowdale West\tWillowridge-Martingrove-Richview\tWoburn\tWoodbine Corridor\tWoodbine-Lumsden\tWychwood\tYonge-Eglinton\tYonge-St.Clair\tYork University Heights\tYorkdale-Glen Park\n",
    "Neighbourhood Information\tNeighbourhood Information\tCity of Toronto\tNeighbourhood Number\tn/a\t129\t128\t20\t95\t42\t34\t76\t52\t49\t39\t112\t127\t122\t24\t69\t108\t41\t57\t30\t71\t109\t96\t133\t75\t120\t33\t123\t92\t66\t59\t47\t126\t93\t26\t83\t62\t9\t138\t5\t32\t11\t13\t44\t102\t101\t25\t65\t140\t53\t88\t87\t134\t48\t8\t21\t22\t106\t125\t14\t90\t110\t124\t78\t6\t15\t114\t117\t38\t105\t103\t56\t84\t19\t132\t29\t12\t130\t17\t135\t73\t115\t2\t99\t104\t18\t50\t36\t82\t68\t74\t121\t107\t54\t58\t80\t45\t23\t67\t46\t10\t72\t4\t111\t86\t98\t131\t89\t28\t139\t85\t70\t40\t116\t16\t118\t61\t63\t3\t55\t81\t79\t43\t77\t136\t1\t35\t113\t91\t119\t51\t37\t7\t137\t64\t60\t94\t100\t97\t27\t31"
   ]
  },
  {
   "cell_type": "markdown",
   "metadata": {},
   "source": [
    "We have the name of each neighbourhood in each column name (starting at position 6)"
   ]
  },
  {
   "cell_type": "markdown",
   "metadata": {},
   "source": [
    "The neighbourhood number (also called CDN number) in the first row (starting at position 6)\n"
   ]
  },
  {
   "cell_type": "code",
   "execution_count": null,
   "metadata": {},
   "outputs": [],
   "source": []
  }
 ],
 "metadata": {
  "kernelspec": {
   "display_name": "Python 3",
   "language": "python",
   "name": "python3"
  },
  "language_info": {
   "codemirror_mode": {
    "name": "ipython",
    "version": 3
   },
   "file_extension": ".py",
   "mimetype": "text/x-python",
   "name": "python",
   "nbconvert_exporter": "python",
   "pygments_lexer": "ipython3",
   "version": "3.8.3"
  }
 },
 "nbformat": 4,
 "nbformat_minor": 4
}
